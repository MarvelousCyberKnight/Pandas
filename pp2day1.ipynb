{
  "nbformat": 4,
  "nbformat_minor": 0,
  "metadata": {
    "colab": {
      "provenance": []
    },
    "kernelspec": {
      "name": "python3",
      "display_name": "Python 3"
    },
    "language_info": {
      "name": "python"
    }
  },
  "cells": [
    {
      "cell_type": "code",
      "execution_count": null,
      "metadata": {
        "colab": {
          "base_uri": "https://localhost:8080/"
        },
        "id": "MqdbI7z4M-EF",
        "outputId": "2262fb89-1e43-46b3-95dd-678f0a050cee"
      },
      "outputs": [
        {
          "output_type": "stream",
          "name": "stdout",
          "text": [
            "[10 20 30]\n"
          ]
        }
      ],
      "source": [
        "import numpy as np\n",
        "\n",
        "class createarray:\n",
        "    arr1 = np.array([10,20,30])\n",
        "    print(arr1)\n",
        "\n",
        "ob = createarray()\n"
      ]
    },
    {
      "cell_type": "code",
      "source": [
        "import numpy as np\n",
        "l1 = [10,20,30]\n",
        "arr1 = np.array(l1)\n",
        "print(arr1)"
      ],
      "metadata": {
        "colab": {
          "base_uri": "https://localhost:8080/"
        },
        "id": "n4uONqCePnv9",
        "outputId": "982a30c6-faf3-42d9-d88e-4b4b9a74231c"
      },
      "execution_count": null,
      "outputs": [
        {
          "output_type": "stream",
          "name": "stdout",
          "text": [
            "[10 20 30]\n"
          ]
        }
      ]
    },
    {
      "cell_type": "code",
      "source": [
        "import numpy as np\n",
        "\n",
        "class nparray:\n",
        "    def __init__(sd, a):\n",
        "      sd.a = a\n",
        "    def create(sd):\n",
        "      l1 = []\n",
        "      for i in range(sd.a):\n",
        "          inp = int(input())\n",
        "          l1.append(inp)\n",
        "      arr = np.array(l1)\n",
        "      print(arr)\n",
        "\n",
        "a = int(input(\"Enter the no.of elements in the  array\"))\n",
        "ob = nparray(a)\n",
        "ob.create()"
      ],
      "metadata": {
        "colab": {
          "base_uri": "https://localhost:8080/"
        },
        "id": "6J-uY-PQQrd1",
        "outputId": "b2e66e63-44a0-4c43-978e-d08e2da497ff"
      },
      "execution_count": null,
      "outputs": [
        {
          "output_type": "stream",
          "name": "stdout",
          "text": [
            "Enter the no.of elements in the  array3\n",
            "1\n",
            "2\n",
            "3\n",
            "[1 2 3]\n"
          ]
        }
      ]
    },
    {
      "cell_type": "markdown",
      "source": [
        "# **Single dimensional arrays**"
      ],
      "metadata": {
        "id": "QJM2ms_HTYqN"
      }
    },
    {
      "cell_type": "code",
      "source": [
        "import numpy as np\n",
        "\n",
        "arr1 = np.array([10,20,30])\n",
        "l1 = [40,50,60]\n",
        "arr1 = np.append(arr1, l1)\n",
        "print(arr1)"
      ],
      "metadata": {
        "colab": {
          "base_uri": "https://localhost:8080/"
        },
        "id": "H-1lDtjkSTnF",
        "outputId": "8161e203-f884-4116-9f76-e3ebb47e52e4"
      },
      "execution_count": null,
      "outputs": [
        {
          "output_type": "stream",
          "name": "stdout",
          "text": [
            "[10 20 30 40 50 60]\n"
          ]
        }
      ]
    },
    {
      "cell_type": "markdown",
      "source": [
        "Multi Dimensional Arrays"
      ],
      "metadata": {
        "id": "JtTFOyocTent"
      }
    },
    {
      "cell_type": "code",
      "source": [
        "import numpy as np\n",
        "class nparray:\n",
        "    def __init__(sd,arr1,arr2):\n",
        "        sd.a = arr1\n",
        "        sd.b = arr2\n",
        "    def concat(sd):\n",
        "        res = np.concatenate((sd.a, sd.b), axis=0)\n",
        "        print(\"After Concatination\")\n",
        "        for i in res:\n",
        "          for j in i:\n",
        "            print(j, end =' ')\n",
        "          print()\n",
        "\n",
        "arr1 = np.array([[1,2,3],[4,5,6],[7,8,9]])\n",
        "arr2 = np.array([[1,4,9],[16,25,36],[49,64,81]])\n",
        "ob = nparray(arr1,arr2)\n",
        "ob.concat()"
      ],
      "metadata": {
        "colab": {
          "base_uri": "https://localhost:8080/"
        },
        "id": "4T9jwYqvThiN",
        "outputId": "0ef6dac6-313c-47b9-8fd9-d4351d6af65f"
      },
      "execution_count": null,
      "outputs": [
        {
          "output_type": "stream",
          "name": "stdout",
          "text": [
            "After Concatination\n",
            "1 2 3 \n",
            "4 5 6 \n",
            "7 8 9 \n",
            "1 4 9 \n",
            "16 25 36 \n",
            "49 64 81 \n"
          ]
        }
      ]
    },
    {
      "cell_type": "markdown",
      "source": [
        "# **Matrix Addition**\n",
        "\n",
        "]\n",
        "\n",
        "\n",
        "\n",
        "\n"
      ],
      "metadata": {
        "id": "b_q6wVj7qBMO"
      }
    },
    {
      "cell_type": "code",
      "source": [
        "import numpy as np\n",
        "class nparray:\n",
        "  def __init__(sd, arr1):\n",
        "    sd.a = arr1\n",
        "  def maddit(sd):\n",
        "    for i in range(3):\n",
        "      sd.a[2][i] = sd.a[0][i]+sd.a[1][i]\n",
        "    print(\"The addition of the matrix:\")\n",
        "    print(sd.a[2])\n",
        "\n",
        "arr1 = np.array([[1,2,3],[4,5,6],[0,0,0]])\n",
        "ob = nparray(arr1)\n",
        "ob.maddit()"
      ],
      "metadata": {
        "colab": {
          "base_uri": "https://localhost:8080/"
        },
        "id": "5Fy91W6aj4_d",
        "outputId": "02222a30-434c-4331-e370-4305933f1d84"
      },
      "execution_count": null,
      "outputs": [
        {
          "output_type": "stream",
          "name": "stdout",
          "text": [
            "The addition of the matrix:\n",
            "[5 7 9]\n"
          ]
        }
      ]
    },
    {
      "cell_type": "code",
      "source": [
        "import numpy as np\n",
        "arr1 = np.array([[1,2],[3,4]])\n",
        "arr2 = np.array([5,6])\n",
        "arr3 = np.insert(arr1,2,arr2)\n",
        "print(arr3)"
      ],
      "metadata": {
        "colab": {
          "base_uri": "https://localhost:8080/"
        },
        "id": "oAyYoxmuuvQ8",
        "outputId": "13587cd2-b529-40c7-c78d-c10eb27c658f"
      },
      "execution_count": null,
      "outputs": [
        {
          "output_type": "stream",
          "name": "stdout",
          "text": [
            "[1 2 5 6 3 4]\n"
          ]
        }
      ]
    },
    {
      "cell_type": "code",
      "source": [
        "import numpy as np\n",
        "class nparr:\n",
        "  def __init__(sd,arr1,arr2):\n",
        "    sd.a = arr1\n",
        "    sd.b = arr2\n",
        "  def ap(sd):\n",
        "    sd.a = np.append(sd.a,sd.b)\n",
        "    print(sd.a)\n",
        "\n",
        "arr1 = np.array([1,2])\n",
        "arr2 = np.array([3])\n",
        "ob = nparr(arr1, arr2)\n",
        "ob.ap()"
      ],
      "metadata": {
        "colab": {
          "base_uri": "https://localhost:8080/"
        },
        "id": "yHu04zlkvNA0",
        "outputId": "1ba81dbb-ef24-4458-acc1-8b3dd8ae4740"
      },
      "execution_count": null,
      "outputs": [
        {
          "output_type": "stream",
          "name": "stdout",
          "text": [
            "[1 2 3]\n"
          ]
        }
      ]
    }
  ]
}