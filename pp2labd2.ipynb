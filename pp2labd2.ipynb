{
  "cells": [
    {
      "cell_type": "markdown",
      "metadata": {
        "id": "view-in-github",
        "colab_type": "text"
      },
      "source": [
        "<a href=\"https://colab.research.google.com/github/SIDDARADA/Pandas/blob/main/pp2labd2.ipynb\" target=\"_parent\"><img src=\"https://colab.research.google.com/assets/colab-badge.svg\" alt=\"Open In Colab\"/></a>"
      ]
    },
    {
      "cell_type": "markdown",
      "source": [
        "# **Hstack and vstack**"
      ],
      "metadata": {
        "id": "OdPcUXCSWj8C"
      }
    },
    {
      "cell_type": "code",
      "source": [
        "import numpy as np\n",
        "class nparr():\n",
        "  def arinit(sd):\n",
        "    sd.a1 = np.array([[1,2,3],[4,5,6]])\n",
        "    sd.a2 = np.array([[1,8,27],[64,125,216]])\n",
        "    print(\"Array's Initialized\")\n",
        "  def arhst(sd):\n",
        "    sd.hsa = np.hstack((sd.a1, sd.a2))\n",
        "    print(\"Hstacked Array:\")\n",
        "    print(sd.hsa)\n",
        "  def arvst(sd):\n",
        "    sd.vsa = np.vstack((sd.a1, sd.a2))\n",
        "    print(\"Vstacked Array:\")\n",
        "    print(sd.vsa)\n",
        "ob = nparr()\n",
        "ob.arinit()\n",
        "ob.arhst()\n",
        "ob.arvst()"
      ],
      "metadata": {
        "colab": {
          "base_uri": "https://localhost:8080/"
        },
        "id": "6hjx3kUGO6XU",
        "outputId": "6a219c24-959b-43a8-8f0f-e74d052ff607"
      },
      "execution_count": null,
      "outputs": [
        {
          "output_type": "stream",
          "name": "stdout",
          "text": [
            "Array's Initialized\n",
            "Hstacked Array:\n",
            "[[  1   2   3   1   8  27]\n",
            " [  4   5   6  64 125 216]]\n",
            "Vstacked Array:\n",
            "[[  1   2   3]\n",
            " [  4   5   6]\n",
            " [  1   8  27]\n",
            " [ 64 125 216]]\n"
          ]
        }
      ]
    },
    {
      "cell_type": "markdown",
      "source": [
        "# **Array Multiplication**"
      ],
      "metadata": {
        "id": "_FHyVnFCXWUa"
      }
    },
    {
      "cell_type": "code",
      "source": [
        "class nparr():\n",
        "  def arrinit(sd):\n",
        "    sd.a1 = np.array([[1,2,3],[4,5,6],[7,8,9]])\n",
        "    sd.a2 = np.array([[1,4],[2,5]])\n",
        "    print(\"Array's Initialized\")\n",
        "  def checkr(sd):\n",
        "      sd.ar, sd.ac = sd.a1.shape\n",
        "      sd.br, sd.bc = sd.a2.shape\n",
        "      if sd.ac != sd.br:\n",
        "        print(\"Columns and Rows are Not Matched So Adding [3,6]\")\n",
        "        sd.a3 = np.array([[3,6]])\n",
        "        sd.a4 = np.concatenate((sd.a2, sd.a3), axis = 0)\n",
        "        return sd.a4\n",
        "      else:\n",
        "        return  True\n",
        "  def armul(sd):\n",
        "    sd.b1 = sd.checkr()\n",
        "    sd.c = np.array([[0,0],[0,0],[0,0]])\n",
        "    if isinstance(sd.b1, bool):\n",
        "      sd.ar, sd.ac = sd.a1.shape\n",
        "      sd.br, sd.bc = sd.a2.shape\n",
        "      for i in range(sd.ac):\n",
        "        for j in range(sd.bc):\n",
        "          for k in range(sd.br):\n",
        "            sd.c[i][j] += sd.a1[i][k] * sd.a2[k][j]\n",
        "    else:\n",
        "      sd.ar, sd.ac = sd.a1.shape\n",
        "      sd.br, sd.bc = sd.b1.shape\n",
        "      for i in range(sd.ac):\n",
        "        for j in range(sd.bc):\n",
        "          for k in range(sd.br):\n",
        "            sd.c[i][j] += sd.a1[i][k] * sd.b1[k][j]\n",
        "    print(\"Matrix After Multiplication:\")\n",
        "    print(sd.c)\n",
        "ob = nparr()\n",
        "ob.arrinit()\n",
        "ob.armul()"
      ],
      "metadata": {
        "colab": {
          "base_uri": "https://localhost:8080/"
        },
        "id": "2PmZsCCRW_9L",
        "outputId": "e81bc70f-655f-4905-f1ae-f0dfbc3ccc03"
      },
      "execution_count": null,
      "outputs": [
        {
          "output_type": "stream",
          "name": "stdout",
          "text": [
            "Array's Initialized\n",
            "Columns and Rows are Not Matched So Adding [3,6]\n",
            "Matrix After Multiplication:\n",
            "[[ 14  32]\n",
            " [ 32  77]\n",
            " [ 50 122]]\n"
          ]
        }
      ]
    },
    {
      "cell_type": "markdown",
      "source": [
        "# **Flip Operation**"
      ],
      "metadata": {
        "id": "ESKCAeAznnGE"
      }
    },
    {
      "cell_type": "code",
      "source": [
        "class nparr:\n",
        "  def arrinit(sd):\n",
        "    sd.a1 = np.array([[1,2,3],[4,5,6]])\n",
        "    print(\"Array Initialized\")\n",
        "  def arflip(sd):\n",
        "    sd.a2 = np.flip(sd.a1, 1)\n",
        "    print(sd.a2)\n",
        "\n",
        "ob = nparr()\n",
        "ob.arrinit()\n",
        "ob.arflip()"
      ],
      "metadata": {
        "colab": {
          "base_uri": "https://localhost:8080/"
        },
        "id": "jNhjx1BOnrqj",
        "outputId": "59bccc35-8169-4712-e516-8b091a89f105"
      },
      "execution_count": null,
      "outputs": [
        {
          "output_type": "stream",
          "name": "stdout",
          "text": [
            "Array Initialized\n",
            "[[3 2 1]\n",
            " [6 5 4]]\n"
          ]
        }
      ]
    },
    {
      "cell_type": "code",
      "source": [
        "class nparr:\n",
        "  def arrinit(sd):\n",
        "    sd.a1 = np.array([[1,2,3],[4,5,6]])\n",
        "    print(\"Array Initialization\")\n",
        "  def mar(sd):\n",
        "    sd.a2 = sd.a1 * 2\n",
        "    print(sd.a2)\n",
        "  def aar(sd):\n",
        "    sd.a3 = sd.a1 + 2\n",
        "    print(sd.a3)\n",
        "  def sar(sd):\n",
        "    sd.a4 = sd.a1 - 2\n",
        "    print(sd.a4)\n",
        "\n",
        "ob = nparr()\n",
        "ob.arrinit()\n",
        "ob.mar()\n",
        "ob.aar()\n",
        "ob.sar()"
      ],
      "metadata": {
        "colab": {
          "base_uri": "https://localhost:8080/"
        },
        "id": "zLYxVmSQr1Lx",
        "outputId": "6da0ff39-f7f9-422d-bfcf-dea459c4037b"
      },
      "execution_count": null,
      "outputs": [
        {
          "output_type": "stream",
          "name": "stdout",
          "text": [
            "Array Initialization\n",
            "[[ 2  4  6]\n",
            " [ 8 10 12]]\n",
            "[[3 4 5]\n",
            " [6 7 8]]\n",
            "[[-1  0  1]\n",
            " [ 2  3  4]]\n"
          ]
        }
      ]
    },
    {
      "cell_type": "markdown",
      "source": [
        "# **Transpose of a matrix**"
      ],
      "metadata": {
        "id": "GQhvCGuJxrov"
      }
    },
    {
      "cell_type": "code",
      "source": [
        "class nparr:\n",
        "  def arrinit(sd):\n",
        "    sd.a1 = np.array([[1,2,3,4],[5,6,7,8]])\n",
        "    print(\"Array Initialized\")\n",
        "  def at(sd):\n",
        "    sd.a2 = np.transpose(sd.a1)\n",
        "    print(\"Given Matrix is:\")\n",
        "    print(sd.a1)\n",
        "    print(\"Transpose Of The Matrix is:\")\n",
        "    print(sd.a2)\n",
        "\n",
        "ob = nparr()\n",
        "ob.arrinit()\n",
        "ob.at()"
      ],
      "metadata": {
        "id": "iSrv9wc9woIa",
        "colab": {
          "base_uri": "https://localhost:8080/"
        },
        "outputId": "05de0ca1-5325-4980-96c0-f1f97e70261b"
      },
      "execution_count": null,
      "outputs": [
        {
          "output_type": "stream",
          "name": "stdout",
          "text": [
            "Array Initialized\n",
            "Given Matrix is:\n",
            "[[1 2 3 4]\n",
            " [5 6 7 8]]\n",
            "Transpose Of The Matrix is:\n",
            "[[1 5]\n",
            " [2 6]\n",
            " [3 7]\n",
            " [4 8]]\n"
          ]
        }
      ]
    }
  ],
  "metadata": {
    "colab": {
      "provenance": [],
      "authorship_tag": "ABX9TyOub//VTCcf+Ohp2Qp3ePwP",
      "include_colab_link": true
    },
    "kernelspec": {
      "display_name": "Python 3",
      "name": "python3"
    },
    "language_info": {
      "name": "python"
    }
  },
  "nbformat": 4,
  "nbformat_minor": 0
}